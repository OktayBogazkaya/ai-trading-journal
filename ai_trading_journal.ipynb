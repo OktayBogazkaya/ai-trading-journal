{
  "nbformat": 4,
  "nbformat_minor": 0,
  "metadata": {
    "colab": {
      "provenance": []
    },
    "kernelspec": {
      "name": "python3",
      "display_name": "Python 3"
    },
    "language_info": {
      "name": "python"
    }
  },
  "cells": [
    {
      "cell_type": "markdown",
      "source": [
        "# Create an AI Agent with Langchain"
      ],
      "metadata": {
        "id": "OLIjYb4SEHpX"
      }
    },
    {
      "cell_type": "markdown",
      "source": [
        "## Intall and Import Libraries"
      ],
      "metadata": {
        "id": "QEl_bBo4D1--"
      }
    },
    {
      "cell_type": "code",
      "execution_count": null,
      "metadata": {
        "id": "tq64DGYwNIPa"
      },
      "outputs": [],
      "source": [
        "%pip install --upgrade --quiet sqlalchemy langchain langchain-community langchain-openai"
      ]
    },
    {
      "cell_type": "markdown",
      "source": [
        "Note: We use Google Colab's Secrets feature to store and retreive sensitive information like API-Keys.\n",
        "\n",
        "Get your OpenAI API-Key: https://platform.openai.com/"
      ],
      "metadata": {
        "id": "VsX_PfR7DAlu"
      }
    },
    {
      "cell_type": "markdown",
      "source": [
        "## Load CSV Data"
      ],
      "metadata": {
        "id": "XpiA4RqcGBMW"
      }
    },
    {
      "cell_type": "markdown",
      "source": [
        "I used an example .csv data stored in the GitHub repo of the project: https://github.com/OktayBogazkaya/ai-trading-journal/tree/main/data\n",
        "\n",
        "Feel free to download and use the dataset, or use your own.\n"
      ],
      "metadata": {
        "id": "rKyuDnJsGyS-"
      }
    },
    {
      "cell_type": "code",
      "source": [
        "import pandas as pd\n",
        "\n",
        "# Load CSV into pandas\n",
        "df = pd.read_csv(\"trading_data.csv\")\n",
        "df.head(5)"
      ],
      "metadata": {
        "colab": {
          "base_uri": "https://localhost:8080/",
          "height": 206
        },
        "id": "rm8eFLN1F8H6",
        "outputId": "b2373a04-3e95-4e54-ec7d-012029c761eb"
      },
      "execution_count": null,
      "outputs": [
        {
          "output_type": "execute_result",
          "data": {
            "text/plain": [
              "         Date Ticker  Quantity  Entry Price ($)  Exit Price ($)  \\\n",
              "0  2023-01-15    IWM       352            20.93           30.68   \n",
              "1  2023-07-27    TSM       205           221.50          217.45   \n",
              "2  2023-06-02   INTC       171           130.64          137.52   \n",
              "3  2023-10-09   AAPL        12           413.08          404.85   \n",
              "4  2023-06-18    QQQ       149            35.30           45.29   \n",
              "\n",
              "   Commission ($)  Profit/Loss ($)  \n",
              "0             5.0          3427.00  \n",
              "1             5.0          -835.25  \n",
              "2             5.0          1171.48  \n",
              "3             5.0          -103.76  \n",
              "4             5.0          1483.51  "
            ],
            "text/html": [
              "\n",
              "  <div id=\"df-f68e06c8-b7e9-42c4-bc06-522de3b61765\" class=\"colab-df-container\">\n",
              "    <div>\n",
              "<style scoped>\n",
              "    .dataframe tbody tr th:only-of-type {\n",
              "        vertical-align: middle;\n",
              "    }\n",
              "\n",
              "    .dataframe tbody tr th {\n",
              "        vertical-align: top;\n",
              "    }\n",
              "\n",
              "    .dataframe thead th {\n",
              "        text-align: right;\n",
              "    }\n",
              "</style>\n",
              "<table border=\"1\" class=\"dataframe\">\n",
              "  <thead>\n",
              "    <tr style=\"text-align: right;\">\n",
              "      <th></th>\n",
              "      <th>Date</th>\n",
              "      <th>Ticker</th>\n",
              "      <th>Quantity</th>\n",
              "      <th>Entry Price ($)</th>\n",
              "      <th>Exit Price ($)</th>\n",
              "      <th>Commission ($)</th>\n",
              "      <th>Profit/Loss ($)</th>\n",
              "    </tr>\n",
              "  </thead>\n",
              "  <tbody>\n",
              "    <tr>\n",
              "      <th>0</th>\n",
              "      <td>2023-01-15</td>\n",
              "      <td>IWM</td>\n",
              "      <td>352</td>\n",
              "      <td>20.93</td>\n",
              "      <td>30.68</td>\n",
              "      <td>5.0</td>\n",
              "      <td>3427.00</td>\n",
              "    </tr>\n",
              "    <tr>\n",
              "      <th>1</th>\n",
              "      <td>2023-07-27</td>\n",
              "      <td>TSM</td>\n",
              "      <td>205</td>\n",
              "      <td>221.50</td>\n",
              "      <td>217.45</td>\n",
              "      <td>5.0</td>\n",
              "      <td>-835.25</td>\n",
              "    </tr>\n",
              "    <tr>\n",
              "      <th>2</th>\n",
              "      <td>2023-06-02</td>\n",
              "      <td>INTC</td>\n",
              "      <td>171</td>\n",
              "      <td>130.64</td>\n",
              "      <td>137.52</td>\n",
              "      <td>5.0</td>\n",
              "      <td>1171.48</td>\n",
              "    </tr>\n",
              "    <tr>\n",
              "      <th>3</th>\n",
              "      <td>2023-10-09</td>\n",
              "      <td>AAPL</td>\n",
              "      <td>12</td>\n",
              "      <td>413.08</td>\n",
              "      <td>404.85</td>\n",
              "      <td>5.0</td>\n",
              "      <td>-103.76</td>\n",
              "    </tr>\n",
              "    <tr>\n",
              "      <th>4</th>\n",
              "      <td>2023-06-18</td>\n",
              "      <td>QQQ</td>\n",
              "      <td>149</td>\n",
              "      <td>35.30</td>\n",
              "      <td>45.29</td>\n",
              "      <td>5.0</td>\n",
              "      <td>1483.51</td>\n",
              "    </tr>\n",
              "  </tbody>\n",
              "</table>\n",
              "</div>\n",
              "    <div class=\"colab-df-buttons\">\n",
              "\n",
              "  <div class=\"colab-df-container\">\n",
              "    <button class=\"colab-df-convert\" onclick=\"convertToInteractive('df-f68e06c8-b7e9-42c4-bc06-522de3b61765')\"\n",
              "            title=\"Convert this dataframe to an interactive table.\"\n",
              "            style=\"display:none;\">\n",
              "\n",
              "  <svg xmlns=\"http://www.w3.org/2000/svg\" height=\"24px\" viewBox=\"0 -960 960 960\">\n",
              "    <path d=\"M120-120v-720h720v720H120Zm60-500h600v-160H180v160Zm220 220h160v-160H400v160Zm0 220h160v-160H400v160ZM180-400h160v-160H180v160Zm440 0h160v-160H620v160ZM180-180h160v-160H180v160Zm440 0h160v-160H620v160Z\"/>\n",
              "  </svg>\n",
              "    </button>\n",
              "\n",
              "  <style>\n",
              "    .colab-df-container {\n",
              "      display:flex;\n",
              "      gap: 12px;\n",
              "    }\n",
              "\n",
              "    .colab-df-convert {\n",
              "      background-color: #E8F0FE;\n",
              "      border: none;\n",
              "      border-radius: 50%;\n",
              "      cursor: pointer;\n",
              "      display: none;\n",
              "      fill: #1967D2;\n",
              "      height: 32px;\n",
              "      padding: 0 0 0 0;\n",
              "      width: 32px;\n",
              "    }\n",
              "\n",
              "    .colab-df-convert:hover {\n",
              "      background-color: #E2EBFA;\n",
              "      box-shadow: 0px 1px 2px rgba(60, 64, 67, 0.3), 0px 1px 3px 1px rgba(60, 64, 67, 0.15);\n",
              "      fill: #174EA6;\n",
              "    }\n",
              "\n",
              "    .colab-df-buttons div {\n",
              "      margin-bottom: 4px;\n",
              "    }\n",
              "\n",
              "    [theme=dark] .colab-df-convert {\n",
              "      background-color: #3B4455;\n",
              "      fill: #D2E3FC;\n",
              "    }\n",
              "\n",
              "    [theme=dark] .colab-df-convert:hover {\n",
              "      background-color: #434B5C;\n",
              "      box-shadow: 0px 1px 3px 1px rgba(0, 0, 0, 0.15);\n",
              "      filter: drop-shadow(0px 1px 2px rgba(0, 0, 0, 0.3));\n",
              "      fill: #FFFFFF;\n",
              "    }\n",
              "  </style>\n",
              "\n",
              "    <script>\n",
              "      const buttonEl =\n",
              "        document.querySelector('#df-f68e06c8-b7e9-42c4-bc06-522de3b61765 button.colab-df-convert');\n",
              "      buttonEl.style.display =\n",
              "        google.colab.kernel.accessAllowed ? 'block' : 'none';\n",
              "\n",
              "      async function convertToInteractive(key) {\n",
              "        const element = document.querySelector('#df-f68e06c8-b7e9-42c4-bc06-522de3b61765');\n",
              "        const dataTable =\n",
              "          await google.colab.kernel.invokeFunction('convertToInteractive',\n",
              "                                                    [key], {});\n",
              "        if (!dataTable) return;\n",
              "\n",
              "        const docLinkHtml = 'Like what you see? Visit the ' +\n",
              "          '<a target=\"_blank\" href=https://colab.research.google.com/notebooks/data_table.ipynb>data table notebook</a>'\n",
              "          + ' to learn more about interactive tables.';\n",
              "        element.innerHTML = '';\n",
              "        dataTable['output_type'] = 'display_data';\n",
              "        await google.colab.output.renderOutput(dataTable, element);\n",
              "        const docLink = document.createElement('div');\n",
              "        docLink.innerHTML = docLinkHtml;\n",
              "        element.appendChild(docLink);\n",
              "      }\n",
              "    </script>\n",
              "  </div>\n",
              "\n",
              "\n",
              "<div id=\"df-f21d9de1-397a-4e2f-bae0-2de94836a119\">\n",
              "  <button class=\"colab-df-quickchart\" onclick=\"quickchart('df-f21d9de1-397a-4e2f-bae0-2de94836a119')\"\n",
              "            title=\"Suggest charts\"\n",
              "            style=\"display:none;\">\n",
              "\n",
              "<svg xmlns=\"http://www.w3.org/2000/svg\" height=\"24px\"viewBox=\"0 0 24 24\"\n",
              "     width=\"24px\">\n",
              "    <g>\n",
              "        <path d=\"M19 3H5c-1.1 0-2 .9-2 2v14c0 1.1.9 2 2 2h14c1.1 0 2-.9 2-2V5c0-1.1-.9-2-2-2zM9 17H7v-7h2v7zm4 0h-2V7h2v10zm4 0h-2v-4h2v4z\"/>\n",
              "    </g>\n",
              "</svg>\n",
              "  </button>\n",
              "\n",
              "<style>\n",
              "  .colab-df-quickchart {\n",
              "      --bg-color: #E8F0FE;\n",
              "      --fill-color: #1967D2;\n",
              "      --hover-bg-color: #E2EBFA;\n",
              "      --hover-fill-color: #174EA6;\n",
              "      --disabled-fill-color: #AAA;\n",
              "      --disabled-bg-color: #DDD;\n",
              "  }\n",
              "\n",
              "  [theme=dark] .colab-df-quickchart {\n",
              "      --bg-color: #3B4455;\n",
              "      --fill-color: #D2E3FC;\n",
              "      --hover-bg-color: #434B5C;\n",
              "      --hover-fill-color: #FFFFFF;\n",
              "      --disabled-bg-color: #3B4455;\n",
              "      --disabled-fill-color: #666;\n",
              "  }\n",
              "\n",
              "  .colab-df-quickchart {\n",
              "    background-color: var(--bg-color);\n",
              "    border: none;\n",
              "    border-radius: 50%;\n",
              "    cursor: pointer;\n",
              "    display: none;\n",
              "    fill: var(--fill-color);\n",
              "    height: 32px;\n",
              "    padding: 0;\n",
              "    width: 32px;\n",
              "  }\n",
              "\n",
              "  .colab-df-quickchart:hover {\n",
              "    background-color: var(--hover-bg-color);\n",
              "    box-shadow: 0 1px 2px rgba(60, 64, 67, 0.3), 0 1px 3px 1px rgba(60, 64, 67, 0.15);\n",
              "    fill: var(--button-hover-fill-color);\n",
              "  }\n",
              "\n",
              "  .colab-df-quickchart-complete:disabled,\n",
              "  .colab-df-quickchart-complete:disabled:hover {\n",
              "    background-color: var(--disabled-bg-color);\n",
              "    fill: var(--disabled-fill-color);\n",
              "    box-shadow: none;\n",
              "  }\n",
              "\n",
              "  .colab-df-spinner {\n",
              "    border: 2px solid var(--fill-color);\n",
              "    border-color: transparent;\n",
              "    border-bottom-color: var(--fill-color);\n",
              "    animation:\n",
              "      spin 1s steps(1) infinite;\n",
              "  }\n",
              "\n",
              "  @keyframes spin {\n",
              "    0% {\n",
              "      border-color: transparent;\n",
              "      border-bottom-color: var(--fill-color);\n",
              "      border-left-color: var(--fill-color);\n",
              "    }\n",
              "    20% {\n",
              "      border-color: transparent;\n",
              "      border-left-color: var(--fill-color);\n",
              "      border-top-color: var(--fill-color);\n",
              "    }\n",
              "    30% {\n",
              "      border-color: transparent;\n",
              "      border-left-color: var(--fill-color);\n",
              "      border-top-color: var(--fill-color);\n",
              "      border-right-color: var(--fill-color);\n",
              "    }\n",
              "    40% {\n",
              "      border-color: transparent;\n",
              "      border-right-color: var(--fill-color);\n",
              "      border-top-color: var(--fill-color);\n",
              "    }\n",
              "    60% {\n",
              "      border-color: transparent;\n",
              "      border-right-color: var(--fill-color);\n",
              "    }\n",
              "    80% {\n",
              "      border-color: transparent;\n",
              "      border-right-color: var(--fill-color);\n",
              "      border-bottom-color: var(--fill-color);\n",
              "    }\n",
              "    90% {\n",
              "      border-color: transparent;\n",
              "      border-bottom-color: var(--fill-color);\n",
              "    }\n",
              "  }\n",
              "</style>\n",
              "\n",
              "  <script>\n",
              "    async function quickchart(key) {\n",
              "      const quickchartButtonEl =\n",
              "        document.querySelector('#' + key + ' button');\n",
              "      quickchartButtonEl.disabled = true;  // To prevent multiple clicks.\n",
              "      quickchartButtonEl.classList.add('colab-df-spinner');\n",
              "      try {\n",
              "        const charts = await google.colab.kernel.invokeFunction(\n",
              "            'suggestCharts', [key], {});\n",
              "      } catch (error) {\n",
              "        console.error('Error during call to suggestCharts:', error);\n",
              "      }\n",
              "      quickchartButtonEl.classList.remove('colab-df-spinner');\n",
              "      quickchartButtonEl.classList.add('colab-df-quickchart-complete');\n",
              "    }\n",
              "    (() => {\n",
              "      let quickchartButtonEl =\n",
              "        document.querySelector('#df-f21d9de1-397a-4e2f-bae0-2de94836a119 button');\n",
              "      quickchartButtonEl.style.display =\n",
              "        google.colab.kernel.accessAllowed ? 'block' : 'none';\n",
              "    })();\n",
              "  </script>\n",
              "</div>\n",
              "\n",
              "    </div>\n",
              "  </div>\n"
            ],
            "application/vnd.google.colaboratory.intrinsic+json": {
              "type": "dataframe",
              "variable_name": "df",
              "summary": "{\n  \"name\": \"df\",\n  \"rows\": 500,\n  \"fields\": [\n    {\n      \"column\": \"Date\",\n      \"properties\": {\n        \"dtype\": \"object\",\n        \"num_unique_values\": 273,\n        \"samples\": [\n          \"2023-11-25\",\n          \"2023-05-03\",\n          \"2023-08-26\"\n        ],\n        \"semantic_type\": \"\",\n        \"description\": \"\"\n      }\n    },\n    {\n      \"column\": \"Ticker\",\n      \"properties\": {\n        \"dtype\": \"category\",\n        \"num_unique_values\": 20,\n        \"samples\": [\n          \"IWM\",\n          \"XLF\",\n          \"XLI\"\n        ],\n        \"semantic_type\": \"\",\n        \"description\": \"\"\n      }\n    },\n    {\n      \"column\": \"Quantity\",\n      \"properties\": {\n        \"dtype\": \"number\",\n        \"std\": 136,\n        \"min\": 10,\n        \"max\": 498,\n        \"num_unique_values\": 304,\n        \"samples\": [\n          490,\n          416,\n          316\n        ],\n        \"semantic_type\": \"\",\n        \"description\": \"\"\n      }\n    },\n    {\n      \"column\": \"Entry Price ($)\",\n      \"properties\": {\n        \"dtype\": \"number\",\n        \"std\": 145.2529278795466,\n        \"min\": 10.53,\n        \"max\": 498.22,\n        \"num_unique_values\": 499,\n        \"samples\": [\n          81.21,\n          315.99,\n          286.36\n        ],\n        \"semantic_type\": \"\",\n        \"description\": \"\"\n      }\n    },\n    {\n      \"column\": \"Exit Price ($)\",\n      \"properties\": {\n        \"dtype\": \"number\",\n        \"std\": 145.17366588834662,\n        \"min\": 5.74,\n        \"max\": 505.79,\n        \"num_unique_values\": 497,\n        \"samples\": [\n          259.96,\n          309.28,\n          277.8\n        ],\n        \"semantic_type\": \"\",\n        \"description\": \"\"\n      }\n    },\n    {\n      \"column\": \"Commission ($)\",\n      \"properties\": {\n        \"dtype\": \"number\",\n        \"std\": 0.0,\n        \"min\": 5.0,\n        \"max\": 5.0,\n        \"num_unique_values\": 1,\n        \"samples\": [\n          5.0\n        ],\n        \"semantic_type\": \"\",\n        \"description\": \"\"\n      }\n    },\n    {\n      \"column\": \"Profit/Loss ($)\",\n      \"properties\": {\n        \"dtype\": \"number\",\n        \"std\": 1675.0754934514189,\n        \"min\": -4591.58,\n        \"max\": 4405.77,\n        \"num_unique_values\": 499,\n        \"samples\": [\n          1774.73\n        ],\n        \"semantic_type\": \"\",\n        \"description\": \"\"\n      }\n    }\n  ]\n}"
            }
          },
          "metadata": {},
          "execution_count": 14
        }
      ]
    },
    {
      "cell_type": "markdown",
      "source": [
        "## Load CSV into SQLite Database"
      ],
      "metadata": {
        "id": "Pq3YGY4rPRnc"
      }
    },
    {
      "cell_type": "code",
      "source": [
        "import sqlite3\n",
        "from sqlalchemy import create_engine\n",
        "# Create an SQLite database engine with SQLAlchemy\n",
        "engine = create_engine(\"sqlite:///trading_journal.db\")\n",
        "\n",
        "df.to_sql(\"trades\", engine, if_exists=\"replace\", index=False)"
      ],
      "metadata": {
        "colab": {
          "base_uri": "https://localhost:8080/"
        },
        "id": "XNh6bvcoF-9U",
        "outputId": "9e26229c-acfb-4623-de5c-9f4d0452e7c3"
      },
      "execution_count": null,
      "outputs": [
        {
          "output_type": "execute_result",
          "data": {
            "text/plain": [
              "500"
            ]
          },
          "metadata": {},
          "execution_count": 15
        }
      ]
    },
    {
      "cell_type": "markdown",
      "source": [
        "## Create Agent to interact with SQL DB\n",
        "\n",
        "---\n",
        "\n"
      ],
      "metadata": {
        "id": "TKKuR4PRVHbX"
      }
    },
    {
      "cell_type": "code",
      "source": [
        "from google.colab import userdata\n",
        "from langchain_community.utilities import SQLDatabase\n",
        "from langchain_community.agent_toolkits import create_sql_agent\n",
        "from langchain.chat_models import ChatOpenAI\n",
        "\n",
        "# Connect Langchain agent with SQL database\n",
        "db = SQLDatabase(engine=engine)\n",
        "\n",
        "#Instantiate the LLM\n",
        "llm = ChatOpenAI(model=\"gpt-4o\", temperature=0, openai_api_key=userdata.get('OPENAI_API_KEY'))\n",
        "\n",
        "# Create Agent\n",
        "agent_executor = create_sql_agent(llm, db=db, agent_type=\"openai-tools\", verbose=False)"
      ],
      "metadata": {
        "id": "TrdAE-wjPQuC"
      },
      "execution_count": null,
      "outputs": []
    },
    {
      "cell_type": "markdown",
      "source": [
        "## Chat with your Data"
      ],
      "metadata": {
        "id": "f3y1igxcfJ_Q"
      }
    },
    {
      "cell_type": "code",
      "source": [
        "response = agent_executor.invoke({\"input\": \"What is the total number of trades in 2023\"})\n",
        "\n",
        "print(response[\"output\"])"
      ],
      "metadata": {
        "id": "lyJo9C1Dd2-e"
      },
      "execution_count": null,
      "outputs": []
    },
    {
      "cell_type": "code",
      "source": [
        "# Cross check\n",
        "len(df[\"Date\"])"
      ],
      "metadata": {
        "id": "nnOJHjB-d7YZ"
      },
      "execution_count": null,
      "outputs": []
    },
    {
      "cell_type": "code",
      "source": [
        "response = agent_executor.invoke({\"input\": \"What was my highest winning trade on Meta (Ticker: FB) in 2023?\"})\n",
        "\n",
        "print(response[\"output\"])\n"
      ],
      "metadata": {
        "id": "xg6KzHOuk1KG"
      },
      "execution_count": null,
      "outputs": []
    },
    {
      "cell_type": "code",
      "source": [
        "# Cross check\n",
        "print(df[df[\"Ticker\"] == \"FB\"][\"Profit/Loss ($)\"].max())"
      ],
      "metadata": {
        "colab": {
          "base_uri": "https://localhost:8080/"
        },
        "id": "5yJQwMQfjRLb",
        "outputId": "7c320880-8251-4fee-e3de-a8cec2ca1ab1"
      },
      "execution_count": null,
      "outputs": [
        {
          "output_type": "stream",
          "name": "stdout",
          "text": [
            "3637.03\n"
          ]
        }
      ]
    },
    {
      "cell_type": "code",
      "source": [
        "# Create Agent with verbose=True\n",
        "agent_executor = create_sql_agent(llm, db=db, agent_type=\"openai-tools\", verbose=True)\n",
        "\n",
        "response = agent_executor.invoke({\"input\": \"What was my highest winning trade on Meta (Ticker: FB) in 2023?\"})\n",
        "\n",
        "print(response[\"output\"])"
      ],
      "metadata": {
        "colab": {
          "base_uri": "https://localhost:8080/"
        },
        "id": "nxnrwkLLOUHq",
        "outputId": "2dc96f3d-da15-4a45-b6a1-fe4053a612be"
      },
      "execution_count": null,
      "outputs": [
        {
          "output_type": "stream",
          "name": "stdout",
          "text": [
            "\n",
            "\n",
            "\u001b[1m> Entering new SQL Agent Executor chain...\u001b[0m\n",
            "\u001b[32;1m\u001b[1;3m\n",
            "Invoking: `sql_db_list_tables` with `{}`\n",
            "\n",
            "\n",
            "\u001b[0m\u001b[38;5;200m\u001b[1;3mtrades\u001b[0m\u001b[32;1m\u001b[1;3m\n",
            "Invoking: `sql_db_schema` with `{'table_names': 'trades'}`\n",
            "\n",
            "\n",
            "\u001b[0m\u001b[33;1m\u001b[1;3m\n",
            "CREATE TABLE trades (\n",
            "\t\"Date\" TEXT, \n",
            "\t\"Ticker\" TEXT, \n",
            "\t\"Quantity\" BIGINT, \n",
            "\t\"Entry Price ($)\" FLOAT, \n",
            "\t\"Exit Price ($)\" FLOAT, \n",
            "\t\"Commission ($)\" FLOAT, \n",
            "\t\"Profit/Loss ($)\" FLOAT\n",
            ")\n",
            "\n",
            "/*\n",
            "3 rows from trades table:\n",
            "Date\tTicker\tQuantity\tEntry Price ($)\tExit Price ($)\tCommission ($)\tProfit/Loss ($)\n",
            "2023-01-15\tIWM\t352\t20.93\t30.68\t5.0\t3427.0\n",
            "2023-07-27\tTSM\t205\t221.5\t217.45\t5.0\t-835.25\n",
            "2023-06-02\tINTC\t171\t130.64\t137.52\t5.0\t1171.48\n",
            "*/\u001b[0m\u001b[32;1m\u001b[1;3m\n",
            "Invoking: `sql_db_query_checker` with `{'query': 'SELECT MAX(\"Profit/Loss ($)\") AS MaxProfit FROM trades WHERE Ticker = \\'FB\\' AND strftime(\\'%Y\\', Date) = \\'2023\\''}`\n",
            "\n",
            "\n",
            "\u001b[0m\u001b[36;1m\u001b[1;3m```sql\n",
            "SELECT MAX(\"Profit/Loss ($)\") AS MaxProfit FROM trades WHERE Ticker = 'FB' AND strftime('%Y', Date) = '2023'\n",
            "```\u001b[0m\u001b[32;1m\u001b[1;3m\n",
            "Invoking: `sql_db_query` with `{'query': 'SELECT MAX(\"Profit/Loss ($)\") AS MaxProfit FROM trades WHERE Ticker = \\'FB\\' AND strftime(\\'%Y\\', Date) = \\'2023\\''}`\n",
            "\n",
            "\n",
            "\u001b[0m\u001b[36;1m\u001b[1;3m[(3637.03,)]\u001b[0m\u001b[32;1m\u001b[1;3mYour highest winning trade on Meta (Ticker: FB) in 2023 had a profit of $3,637.03.\u001b[0m\n",
            "\n",
            "\u001b[1m> Finished chain.\u001b[0m\n",
            "Your highest winning trade on Meta (Ticker: FB) in 2023 had a profit of $3,637.03.\n"
          ]
        }
      ]
    },
    {
      "cell_type": "markdown",
      "source": [
        "## Note\n",
        "I named the notebook and Github repo **AI Trading Journal**, because this is just the beginning of a much larger project.\n",
        "\n",
        "More to come soon! Stay tuned and follow RhinoAcademy 👇\n",
        "\n",
        "- [Youtube Channel](https://www.youtube.com/@Rhino-Academy)\n",
        "- [Substack](https://rhinoacademy.substack.com/)\n",
        "- [GitHub Repo](https://github.com/OktayBogazkaya/ai-trading-journal)"
      ],
      "metadata": {
        "id": "wD5qNO9RfsDF"
      }
    }
  ]
}