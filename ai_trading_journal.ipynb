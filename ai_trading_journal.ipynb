{
  "nbformat": 4,
  "nbformat_minor": 0,
  "metadata": {
    "colab": {
      "provenance": []
    },
    "kernelspec": {
      "name": "python3",
      "display_name": "Python 3"
    },
    "language_info": {
      "name": "python"
    }
  },
  "cells": [
    {
      "cell_type": "code",
      "execution_count": null,
      "metadata": {
        "id": "tq64DGYwNIPa"
      },
      "outputs": [],
      "source": [
        "%pip install --upgrade --quiet sqlalchemy langchain langchain-community langchain-openai"
      ]
    },
    {
      "cell_type": "markdown",
      "source": [
        "## Load CSV into SQLite Database"
      ],
      "metadata": {
        "id": "Pq3YGY4rPRnc"
      }
    },
    {
      "cell_type": "code",
      "source": [
        "import pandas as pd\n",
        "import sqlite3\n",
        "from sqlalchemy import create_engine\n",
        "\n",
        "# Load CSV into pandas\n",
        "df = pd.read_csv(\"trading_data.csv\")\n",
        "\n",
        "# Create an SQLite database engine with SQLAlchemy\n",
        "engine = create_engine(\"sqlite:///trades.db\")\n",
        "\n",
        "df.to_sql(\"trades\", engine, if_exists=\"replace\", index=False)"
      ],
      "metadata": {
        "id": "rhFfHM2zOEZW",
        "colab": {
          "base_uri": "https://localhost:8080/"
        },
        "outputId": "6813427a-7654-4e9f-e8bd-194d64d4bdf4"
      },
      "execution_count": 32,
      "outputs": [
        {
          "output_type": "execute_result",
          "data": {
            "text/plain": [
              "500"
            ]
          },
          "metadata": {},
          "execution_count": 32
        }
      ]
    },
    {
      "cell_type": "markdown",
      "source": [
        "## Create Agent to interact with SQL DB"
      ],
      "metadata": {
        "id": "TKKuR4PRVHbX"
      }
    },
    {
      "cell_type": "code",
      "source": [
        "from google.colab import userdata\n",
        "from langchain_community.utilities import SQLDatabase\n",
        "from langchain.chat_models import ChatOpenAI\n",
        "\n",
        "# Set up SQLite Database\n",
        "db = SQLDatabase(engine=engine)\n",
        "\n",
        "#Use GPT-4 for SQL generation\n",
        "llm = ChatOpenAI(model=\"gpt-4o\", temperature=0, openai_api_key=userdata.get('OPENAI_API_KEY'))\n"
      ],
      "metadata": {
        "id": "TrdAE-wjPQuC"
      },
      "execution_count": 33,
      "outputs": []
    },
    {
      "cell_type": "code",
      "source": [
        "from langchain_community.agent_toolkits import create_sql_agent\n",
        "agent_executor = create_sql_agent(llm, db=db, agent_type=\"openai-tools\", verbose=False)"
      ],
      "metadata": {
        "id": "kaViJFc_NfV4"
      },
      "execution_count": 34,
      "outputs": []
    },
    {
      "cell_type": "markdown",
      "source": [
        "## Chat with your Data"
      ],
      "metadata": {
        "id": "f3y1igxcfJ_Q"
      }
    },
    {
      "cell_type": "code",
      "source": [
        "response = agent_executor.invoke({\"input\": \"what is the total number of trades in 2023\"})\n",
        "\n",
        "print(response[\"output\"])"
      ],
      "metadata": {
        "colab": {
          "base_uri": "https://localhost:8080/"
        },
        "id": "lyJo9C1Dd2-e",
        "outputId": "644d6978-73b2-46b9-cb2a-addc6d77d166"
      },
      "execution_count": 35,
      "outputs": [
        {
          "output_type": "stream",
          "name": "stdout",
          "text": [
            "The total number of trades in 2023 is 500.\n"
          ]
        }
      ]
    },
    {
      "cell_type": "code",
      "source": [
        "# Cross check in pandas dataframe\n",
        "len(df[\"Date\"])"
      ],
      "metadata": {
        "colab": {
          "base_uri": "https://localhost:8080/"
        },
        "id": "nnOJHjB-d7YZ",
        "outputId": "5b02ce71-7662-40d2-fa0d-0d6641fa01b3"
      },
      "execution_count": 36,
      "outputs": [
        {
          "output_type": "execute_result",
          "data": {
            "text/plain": [
              "500"
            ]
          },
          "metadata": {},
          "execution_count": 36
        }
      ]
    },
    {
      "cell_type": "code",
      "source": [
        "response = agent_executor.invoke({\"input\": \"What was my highest winning trade on Meta (Ticker: FB) in 2023?\"})\n",
        "\n",
        "print(response[\"output\"])\n"
      ],
      "metadata": {
        "colab": {
          "base_uri": "https://localhost:8080/"
        },
        "id": "xg6KzHOuk1KG",
        "outputId": "616eefc4-cb81-4104-efc7-13c8eb5a6ce0"
      },
      "execution_count": 37,
      "outputs": [
        {
          "output_type": "stream",
          "name": "stdout",
          "text": [
            "Your highest winning trade on Meta (Ticker: FB) in 2023 resulted in a profit of $3,637.03.\n"
          ]
        }
      ]
    }
  ]
}